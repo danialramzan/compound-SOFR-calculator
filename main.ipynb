{
 "cells": [
  {
   "cell_type": "code",
   "execution_count": 15,
   "id": "initial_id",
   "metadata": {
    "collapsed": true,
    "ExecuteTime": {
     "end_time": "2024-09-03T01:38:18.436530519Z",
     "start_time": "2024-09-03T01:38:18.435283924Z"
    }
   },
   "outputs": [],
   "source": [
    "import pandas as pd\n",
    "import numpy as np"
   ]
  },
  {
   "cell_type": "code",
   "outputs": [],
   "source": [
    "import pandas as pd\n",
    "import numpy as np\n",
    "\n",
    "# Load the data and replace '.' with NaN\n",
    "SOFR_index_df = pd.read_csv('SOFR.csv')\n",
    "SOFR_index_df['SOFR'] = SOFR_index_df['SOFR'].replace('.', np.nan)\n",
    "\n",
    "# Convert SOFR column to float\n",
    "SOFR_index_df['SOFR'] = SOFR_index_df['SOFR'].astype(float)\n",
    "\n",
    "# Calculate the 'multiple' column\n",
    "SOFR_index_df['multiple'] = (1 + SOFR_index_df['SOFR'] / 100) ** (1/360)\n",
    "\n",
    "# Convert the 'DATE' column to datetime\n",
    "SOFR_index_df['DATE'] = pd.to_datetime(SOFR_index_df['DATE'])\n",
    "\n",
    "# Generate a full date range\n",
    "full_date_range = pd.date_range(start=SOFR_index_df['DATE'].min(), end=SOFR_index_df['DATE'].max())\n",
    "\n",
    "# Reindex the DataFrame to include all dates\n",
    "SOFR_index_df = SOFR_index_df.set_index('DATE').reindex(full_date_range).reset_index()\n",
    "SOFR_index_df.columns = ['DATE', 'SOFR', 'multiple']\n",
    "\n",
    "# Create the 'business_day' column: 0 if SOFR is NaN, 1 if SOFR is not NaN\n",
    "SOFR_index_df['business_day'] = np.where(SOFR_index_df['SOFR'].isnull(), 0, 1)\n",
    "\n",
    "# Replace all NaN values in 'SOFR' with the last available business rate\n",
    "SOFR_index_df['SOFR'].ffill(inplace=True)\n",
    "SOFR_index_df['multiple'].ffill(inplace=True)\n",
    "\n",
    "# Initialize the index_approx column with NaN\n",
    "SOFR_index_df['index_approx'] = np.nan\n",
    "\n",
    "# Set the initial value for index_approx on 2019-08-29\n",
    "initial_date = pd.to_datetime('2019-08-29')\n",
    "initial_value = 1.0316827\n",
    "\n",
    "# Set the initial value for the first row matching the initial_date\n",
    "SOFR_index_df.loc[SOFR_index_df['DATE'] == initial_date, 'index_approx'] = initial_value\n",
    "\n",
    "# Calculate the subsequent values of index_approx\n",
    "for i in range(1, len(SOFR_index_df)):\n",
    "    if pd.notnull(SOFR_index_df.loc[i, 'multiple']):\n",
    "        SOFR_index_df.loc[i, 'index_approx'] = SOFR_index_df.loc[i-1, 'index_approx'] * SOFR_index_df.loc[i, 'multiple']\n",
    "\n",
    "SOFR_index_df['calendar_days_applicable'] = 0  # Default value\n",
    "\n",
    "# Loop through and set calendar_days_applicable based on business_day\n",
    "for i in range(len(SOFR_index_df) - 1):\n",
    "    if SOFR_index_df.loc[i, 'business_day'] == 1:\n",
    "        count = 1\n",
    "        for j in range(i + 1, len(SOFR_index_df)):\n",
    "            if SOFR_index_df.loc[j, 'business_day'] == 0:\n",
    "                count += 1\n",
    "            else:\n",
    "                break\n",
    "        SOFR_index_df.loc[i, 'calendar_days_applicable'] = count\n",
    "\n",
    "# # Calculate the subsequent values of index_approx\n",
    "# for i in range(1, len(SOFR_index_df)):\n",
    "#     if pd.notnull(SOFR_index_df.loc[i, 'multiple_2']):\n",
    "#         SOFR_index_df.loc[i, 'index_approx_2'] = SOFR_index_df.loc[i-1, 'index_approx_2'] * SOFR_index_df.loc[i, 'multiple_2']\n",
    "\n",
    "SOFR_index_df['multiple_2'] = 1 + (SOFR_index_df['SOFR'] / 100) * (SOFR_index_df['calendar_days_applicable'] / 360)\n",
    "\n",
    "\n",
    "# Initialize the index_approx column with NaN\n",
    "SOFR_index_df['index_approx_2'] = np.nan\n",
    "\n",
    "# Set the initial value for index_approx on 2019-08-29\n",
    "initial_date = pd.to_datetime('2019-08-29')\n",
    "initial_value = 1.0316827\n",
    "\n",
    "# Set the initial value for the first row matching the initial_date\n",
    "SOFR_index_df.loc[SOFR_index_df['DATE'] == initial_date, 'index_approx_2'] = initial_value\n",
    "\n",
    "for i in range(1, len(SOFR_index_df)):\n",
    "    if SOFR_index_df.loc[i, 'business_day'] == 1:  # Only update on business days\n",
    "        # Ensure the previous value exists before multiplication\n",
    "        if pd.notnull(SOFR_index_df.loc[i-1, 'index_approx_2']):\n",
    "            SOFR_index_df.loc[i, 'index_approx_2'] = SOFR_index_df.loc[i-1, 'index_approx_2'] * SOFR_index_df.loc[i, 'multiple_2']\n",
    "    else:\n",
    "        SOFR_index_df.loc[i, 'index_approx_2'] = SOFR_index_df.loc[i - 1, 'index_approx_2']\n",
    "\n",
    "\n",
    "# Display the updated DataFrame\n",
    "SOFR_index_df.head(20)\n",
    "SOFR_index_df.to_csv('SOFR_index.csv', index=False)\n"
   ],
   "metadata": {
    "collapsed": false,
    "ExecuteTime": {
     "end_time": "2024-09-03T08:06:28.801920820Z",
     "start_time": "2024-09-03T08:06:28.413186030Z"
    }
   },
   "id": "9b274b91931c2d75",
   "execution_count": 45
  }
 ],
 "metadata": {
  "kernelspec": {
   "display_name": "Python 3",
   "language": "python",
   "name": "python3"
  },
  "language_info": {
   "codemirror_mode": {
    "name": "ipython",
    "version": 2
   },
   "file_extension": ".py",
   "mimetype": "text/x-python",
   "name": "python",
   "nbconvert_exporter": "python",
   "pygments_lexer": "ipython2",
   "version": "2.7.6"
  }
 },
 "nbformat": 4,
 "nbformat_minor": 5
}
